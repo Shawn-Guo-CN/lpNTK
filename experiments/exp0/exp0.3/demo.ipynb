{
 "cells": [
  {
   "cell_type": "code",
   "execution_count": 1,
   "metadata": {},
   "outputs": [],
   "source": [
    "import os, sys\n",
    "import toml\n",
    "import argparse\n",
    "from munch import Munch, munchify\n",
    "\n",
    "PROJ_DIR = os.path.expanduser(\"~/GitWS/Transmisstion-Phase\")\n",
    "DATA_DIR = os.path.join(PROJ_DIR, \"data\")\n",
    "SRC_DIR = os.path.join(PROJ_DIR, \"src\")\n",
    "LOGS_DIR = os.path.join(PROJ_DIR, \"logs\", \"exp1\")\n",
    "SCRIPTS_DIR = os.path.join(PROJ_DIR, \"scripts\")\n",
    "CHECKPOINTS_DIR = os.path.join(PROJ_DIR, \"checkpoints\")\n",
    "RESULTS_DIR = os.path.join(PROJ_DIR, \"results\")\n",
    "\n",
    "sys.path.append(PROJ_DIR)"
   ]
  },
  {
   "cell_type": "code",
   "execution_count": 2,
   "metadata": {},
   "outputs": [],
   "source": [
    "import torch\n",
    "import numpy as np\n",
    "np.set_printoptions(formatter={'float': lambda x: \"{0:0.2f}\".format(x)})\n",
    "from torchvision import datasets, transforms\n",
    "from functorch import make_functional, vmap, vjp, jvp, jacrev\n",
    "from models import LeNet, ResNet18, ResNet50\n",
    "DATASET = 'MNIST'\n",
    "INDEX = 100\n",
    "MODEL_NAME = 'LeNet'\n",
    "PT_FILE = os.path.join(CHECKPOINTS_DIR, DATASET, f'{MODEL_NAME}_best.pt')"
   ]
  },
  {
   "cell_type": "code",
   "execution_count": 3,
   "metadata": {},
   "outputs": [],
   "source": [
    "dataset = eval('datasets.'+DATASET)(DATA_DIR, train=True, download=True, \n",
    "                transform=transforms.ToTensor()\n",
    "              )"
   ]
  },
  {
   "cell_type": "code",
   "execution_count": 4,
   "metadata": {},
   "outputs": [
    {
     "data": {
      "text/plain": [
       "<All keys matched successfully>"
      ]
     },
     "execution_count": 4,
     "metadata": {},
     "output_type": "execute_result"
    }
   ],
   "source": [
    "model = eval(MODEL_NAME)().to('cuda')\n",
    "model.eval()\n",
    "model.load_state_dict(torch.load(PT_FILE))"
   ]
  },
  {
   "cell_type": "code",
   "execution_count": 5,
   "metadata": {},
   "outputs": [],
   "source": [
    "fnet, params = make_functional(model)\n",
    "def fnet_single(params, x):\n",
    "    return fnet(params, x.unsqueeze(0)).squeeze(0)"
   ]
  },
  {
   "cell_type": "code",
   "execution_count": 6,
   "metadata": {},
   "outputs": [],
   "source": [
    "jac_list = []\n",
    "for i in range(50):\n",
    "    x, y = dataset[i]\n",
    "    x = x.to('cuda')\n",
    "    jac = vmap(jacrev(fnet_single), (None, 0))(params, x.unsqueeze(0))\n",
    "    jac = [j.flatten(2) for j in jac]\n",
    "    jac = [torch.squeeze(j, dim=0) for j in jac]\n",
    "    jac = [torch.flatten(j).detach() for j in jac]\n",
    "    jac_list.append(torch.concat(jac).detach())"
   ]
  },
  {
   "cell_type": "code",
   "execution_count": null,
   "metadata": {},
   "outputs": [],
   "source": [
    "grad_matrix = torch.stack(jac_list)\n",
    "del jac_list\n",
    "del jac"
   ]
  },
  {
   "cell_type": "code",
   "execution_count": 9,
   "metadata": {},
   "outputs": [
    {
     "data": {
      "text/plain": [
       "torch.Size([50, 11998820])"
      ]
     },
     "execution_count": 9,
     "metadata": {},
     "output_type": "execute_result"
    }
   ],
   "source": [
    "grad_matrix.shape"
   ]
  },
  {
   "cell_type": "code",
   "execution_count": 10,
   "metadata": {},
   "outputs": [],
   "source": [
    "u, s, vh = torch.svd(grad_matrix)"
   ]
  },
  {
   "cell_type": "code",
   "execution_count": 11,
   "metadata": {},
   "outputs": [
    {
     "data": {
      "text/plain": [
       "torch.Size([50, 50])"
      ]
     },
     "execution_count": 11,
     "metadata": {},
     "output_type": "execute_result"
    }
   ],
   "source": [
    "u.shape"
   ]
  },
  {
   "cell_type": "code",
   "execution_count": 12,
   "metadata": {},
   "outputs": [
    {
     "data": {
      "text/plain": [
       "tensor([103.0746,  68.9476,  64.4444,  62.3768,  55.6081,  52.9760,  48.6101,\n",
       "         45.1375,  41.4832,  35.7700,  34.3765,  31.5545,  30.4044,  29.7460,\n",
       "         29.4365,  28.5989,  28.1778,  27.5060,  25.8869,  25.2847,  25.1297,\n",
       "         24.7309,  24.3326,  23.8508,  23.4553,  22.8916,  22.6801,  22.0632,\n",
       "         21.7719,  21.4858,  21.0527,  20.5111,  20.2335,  19.9890,  19.6001,\n",
       "         19.4965,  18.8566,  18.3693,  17.6164,  17.4597,  16.6905,  16.4218,\n",
       "         15.9653,  15.4291,  14.9738,  14.5213,  14.0964,  14.0354,  12.2378,\n",
       "          8.3188], device='cuda:0')"
      ]
     },
     "execution_count": 12,
     "metadata": {},
     "output_type": "execute_result"
    }
   ],
   "source": [
    "s"
   ]
  },
  {
   "cell_type": "code",
   "execution_count": 16,
   "metadata": {},
   "outputs": [
    {
     "data": {
      "text/plain": [
       "torch.Size([11998820, 6])"
      ]
     },
     "execution_count": 16,
     "metadata": {},
     "output_type": "execute_result"
    }
   ],
   "source": [
    "vh.shape"
   ]
  },
  {
   "cell_type": "code",
   "execution_count": 6,
   "metadata": {},
   "outputs": [
    {
     "name": "stdout",
     "output_type": "stream",
     "text": [
      " [=============================================================>...]  Step: 5s249ms | Tot: 1m37s | power iter error: 0.05 20/20 20 0 \n",
      " [=============================================================>...]  Step: 5s192ms | Tot: 1m38s | power iter error: 0.11 20/20 0  \n",
      " [=============================================================>...]  Step: 5s268ms | Tot: 1m39s | power iter error: 0.02 20/20 0 \n",
      " [=============================================================>...]  Step: 5s103ms | Tot: 1m38s | power iter error: 0.00 20/20 20 \n",
      " [=============================================================>...]  Step: 5s200ms | Tot: 1m37s | power iter error: 0.00 20/20 20 \n",
      " [=============================================================>...]  Step: 5s288ms | Tot: 1m39s | power iter error: 0.00 20/20 20 \n",
      " [=============================================================>...]  Step: 5s274ms | Tot: 1m39s | power iter error: 0.00 20/20 20 \n",
      " [=============================================================>...]  Step: 5s195ms | Tot: 1m38s | power iter error: 0.03 20/20 20 \n"
     ]
    }
   ],
   "source": [
    "from hessian_eigenthings import compute_hessian_eigenthings\n",
    "\n",
    "dataloader = torch.utils.data.DataLoader(dataset, batch_size=128, shuffle=False, num_workers=1)\n",
    "loss = torch.nn.functional.cross_entropy\n",
    "num_eigenthings = 20\n",
    "\n",
    "eigenvals, eigenvecs = compute_hessian_eigenthings(model, dataloader,\n",
    "                                                   loss, num_eigenthings)"
   ]
  },
  {
   "cell_type": "code",
   "execution_count": 8,
   "metadata": {},
   "outputs": [
    {
     "data": {
      "text/plain": [
       "(20, 1199882)"
      ]
     },
     "execution_count": 8,
     "metadata": {},
     "output_type": "execute_result"
    }
   ],
   "source": [
    "eigenvecs.shape"
   ]
  }
 ],
 "metadata": {
  "kernelspec": {
   "display_name": "Python 3.9.7 ('dl')",
   "language": "python",
   "name": "python3"
  },
  "language_info": {
   "codemirror_mode": {
    "name": "ipython",
    "version": 3
   },
   "file_extension": ".py",
   "mimetype": "text/x-python",
   "name": "python",
   "nbconvert_exporter": "python",
   "pygments_lexer": "ipython3",
   "version": "3.9.7"
  },
  "orig_nbformat": 4,
  "vscode": {
   "interpreter": {
    "hash": "ee45cdf497c0c3f35ef2234f032e35cd73e0c351de4fa4cc16c0339db3757505"
   }
  }
 },
 "nbformat": 4,
 "nbformat_minor": 2
}

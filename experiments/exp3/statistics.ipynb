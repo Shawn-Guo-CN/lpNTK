{
 "cells": [
  {
   "cell_type": "markdown",
   "metadata": {},
   "source": [
    "This notebook is to get some statistics about the sorted kernel."
   ]
  },
  {
   "cell_type": "code",
   "execution_count": 1,
   "metadata": {},
   "outputs": [],
   "source": [
    "import os, sys\n",
    "\n",
    "PROJ_DIR = os.path.expanduser(\"~/GitWS/Transmisstion-Phase\")\n",
    "DATA_DIR = os.path.join(PROJ_DIR, \"data\")\n",
    "SRC_DIR = os.path.join(PROJ_DIR, \"src\")\n",
    "LOGS_DIR = os.path.join(PROJ_DIR, \"logs\", \"exp1\")\n",
    "SCRIPTS_DIR = os.path.join(PROJ_DIR, \"scripts\")\n",
    "CHECKPOINTS_DIR = os.path.join(PROJ_DIR, \"checkpoints\")\n",
    "RESULTS_DIR = os.path.join(PROJ_DIR, \"results\")\n",
    "\n",
    "from torchvision import datasets, transforms\n",
    "import numpy as np\n",
    "from tqdm.notebook import trange, tqdm\n",
    "import matplotlib.pyplot as plt\n",
    "plt.rcParams[\"figure.figsize\"] = (20,10)"
   ]
  },
  {
   "cell_type": "code",
   "execution_count": 2,
   "metadata": {},
   "outputs": [],
   "source": [
    "DATASET = 'MNIST'\n",
    "KERNEL = 'MaskSum'"
   ]
  },
  {
   "cell_type": "code",
   "execution_count": 3,
   "metadata": {},
   "outputs": [],
   "source": [
    "def load_npz(idx: int) -> np.ndarray:\n",
    "    npz_fname = os.path.join(DATA_DIR, \n",
    "                             DATASET, \n",
    "                             f\"{KERNEL}Kernel_sorted\",\n",
    "                             f\"{idx}.npz\"\n",
    "                            )\n",
    "    return np.load(npz_fname)['data'].astype(np.float32)"
   ]
  },
  {
   "cell_type": "code",
   "execution_count": 4,
   "metadata": {},
   "outputs": [],
   "source": [
    "dataloader = eval('datasets.'+DATASET)(DATA_DIR, train=True, download=True, \n",
    "                  transform=transforms.ToTensor()\n",
    "                 )"
   ]
  },
  {
   "cell_type": "code",
   "execution_count": 5,
   "metadata": {},
   "outputs": [],
   "source": [
    "# if a sample is mostly similar to itself\n",
    "self_is_max = 0\n",
    "self_not_max = 0"
   ]
  },
  {
   "cell_type": "code",
   "execution_count": 6,
   "metadata": {},
   "outputs": [],
   "source": [
    "# ratio of positive/negative distances\n",
    "pos_num = 0\n",
    "neg_num = 0\n",
    "zero_num = 0 \n",
    "ZERO_THERESHOLD = 0.1"
   ]
  },
  {
   "cell_type": "code",
   "execution_count": 7,
   "metadata": {},
   "outputs": [
    {
     "data": {
      "application/vnd.jupyter.widget-view+json": {
       "model_id": "f919f4bb11b34e9baa93afcff134e31f",
       "version_major": 2,
       "version_minor": 0
      },
      "text/plain": [
       "  0%|          | 0/60000 [00:00<?, ?it/s]"
      ]
     },
     "metadata": {},
     "output_type": "display_data"
    }
   ],
   "source": [
    "for idx in trange(len(dataloader)):\n",
    "    dis_mat = load_npz(idx)\n",
    "    \n",
    "    if dis_mat[1, 0] == dis_mat[2, 0]:\n",
    "        self_is_max += 1\n",
    "    else:\n",
    "        self_not_max += 1\n",
    "\n",
    "    zero_num += np.count_nonzero(np.abs(dis_mat[0, :]) < ZERO_THERESHOLD)\n",
    "    pos_num += np.count_nonzero(dis_mat[0, :] >= ZERO_THERESHOLD)\n",
    "    neg_num += np.count_nonzero(dis_mat[0, :] <= -ZERO_THERESHOLD)"
   ]
  },
  {
   "cell_type": "code",
   "execution_count": 8,
   "metadata": {},
   "outputs": [
    {
     "name": "stdout",
     "output_type": "stream",
     "text": [
      "0.8828845791752965\n"
     ]
    }
   ],
   "source": [
    "print(self_is_max / self_not_max)"
   ]
  },
  {
   "cell_type": "code",
   "execution_count": 9,
   "metadata": {},
   "outputs": [
    {
     "name": "stdout",
     "output_type": "stream",
     "text": [
      "0.9974252001355532 0.00257340433215002 1.3955322966839442e-06\n"
     ]
    }
   ],
   "source": [
    "sum = pos_num + neg_num + zero_num\n",
    "print(pos_num / sum, neg_num / sum, zero_num / sum)"
   ]
  },
  {
   "cell_type": "code",
   "execution_count": 10,
   "metadata": {},
   "outputs": [
    {
     "data": {
      "application/vnd.jupyter.widget-view+json": {
       "model_id": "8845e7e468264923ad487638c1c62f76",
       "version_major": 2,
       "version_minor": 0
      },
      "text/plain": [
       "  0%|          | 0/5000 [00:00<?, ?it/s]"
      ]
     },
     "metadata": {},
     "output_type": "display_data"
    }
   ],
   "source": [
    "# distance vector of all samples, a concatenation of all kernel vectors\n",
    "dis_vec = []\n",
    "for idx in trange(5000):\n",
    "    dis_mat = load_npz(idx)\n",
    "    dis_vec.append(dis_mat[0, :])\n",
    "    del dis_mat\n",
    "dis_vec = np.concatenate(dis_vec)"
   ]
  },
  {
   "cell_type": "code",
   "execution_count": 11,
   "metadata": {},
   "outputs": [
    {
     "data": {
      "image/png": "[encoded data removed]",
      "text/plain": [
       "<Figure size 1440x720 with 1 Axes>"
      ]
     },
     "metadata": {
      "needs_background": "light"
     },
     "output_type": "display_data"
    }
   ],
   "source": [
    "plt.hist(dis_vec, density=False, bins=100) \n",
    "plt.grid()\n",
    "plt.show()"
   ]
  },
  {
   "cell_type": "code",
   "execution_count": 12,
   "metadata": {},
   "outputs": [],
   "source": [
    "# if the top-k similar samples are from the same class\n",
    "K = 100\n",
    "same_class = 0\n",
    "diff_class = 0"
   ]
  },
  {
   "cell_type": "code",
   "execution_count": null,
   "metadata": {},
   "outputs": [],
   "source": [
    "for idx in trange(len(dataloader)):\n",
    "    dis_mat = load_npz(idx)\n",
    "    src_label = dataloader[int(dis_mat[1, 0])][1]\n",
    "\n",
    "    num_iter = K if K < dis_mat.shape[1] else dis_mat.shape[1]\n",
    "    for i in range(num_iter):\n",
    "        if src_label == dataloader[int(dis_mat[2, i])][1]:\n",
    "            same_class += 1\n",
    "        else:\n",
    "            diff_class += 1"
   ]
  }
 ],
 "metadata": {
  "kernelspec": {
   "display_name": "Python 3.9.7 ('dl')",
   "language": "python",
   "name": "python3"
  },
  "language_info": {
   "codemirror_mode": {
    "name": "ipython",
    "version": 3
   },
   "file_extension": ".py",
   "mimetype": "text/x-python",
   "name": "python",
   "nbconvert_exporter": "python",
   "pygments_lexer": "ipython3",
   "version": "3.9.7"
  },
  "orig_nbformat": 4,
  "vscode": {
   "interpreter": {
    "hash": "ee45cdf497c0c3f35ef2234f032e35cd73e0c351de4fa4cc16c0339db3757505"
   }
  }
 },
 "nbformat": 4,
 "nbformat_minor": 2
}

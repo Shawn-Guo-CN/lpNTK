{
 "cells": [
  {
   "cell_type": "code",
   "execution_count": 1,
   "metadata": {},
   "outputs": [],
   "source": [
    "import os, sys\n",
    "import toml\n",
    "import argparse\n",
    "from munch import Munch, munchify\n",
    "\n",
    "PROJ_DIR = os.path.expanduser(\"~/GitWS/Transmisstion-Phase\")\n",
    "DATA_DIR = os.path.join(PROJ_DIR, \"data\")\n",
    "SRC_DIR = os.path.join(PROJ_DIR, \"src\")\n",
    "LOGS_DIR = os.path.join(PROJ_DIR, \"logs\", \"exp1\")\n",
    "SCRIPTS_DIR = os.path.join(PROJ_DIR, \"scripts\")\n",
    "CHECKPOINTS_DIR = os.path.join(PROJ_DIR, \"data\")\n",
    "RESULTS_DIR = os.path.join(PROJ_DIR, \"results\")\n",
    "\n",
    "sys.path.append(PROJ_DIR)"
   ]
  },
  {
   "cell_type": "code",
   "execution_count": 2,
   "metadata": {},
   "outputs": [],
   "source": [
    "import numpy as np\n",
    "np.set_printoptions(formatter={'float': lambda x: \"{0:0.2f}\".format(x)})\n",
    "from torchvision import datasets, transforms\n",
    "DATASET = 'MNIST'\n",
    "INDEX = 100"
   ]
  },
  {
   "cell_type": "code",
   "execution_count": 3,
   "metadata": {},
   "outputs": [],
   "source": [
    "npz_fname = os.path.join(DATA_DIR, DATASET, \"GradMatrix\", f\"{INDEX}.npz\")\n",
    "grad_matrix = np.load(npz_fname)['data']"
   ]
  },
  {
   "cell_type": "code",
   "execution_count": 4,
   "metadata": {},
   "outputs": [],
   "source": [
    "dataset = eval('datasets.'+DATASET)(DATA_DIR, train=True, download=True, \n",
    "                transform=transforms.ToTensor()\n",
    "               )"
   ]
  },
  {
   "cell_type": "code",
   "execution_count": 5,
   "metadata": {},
   "outputs": [
    {
     "name": "stdout",
     "output_type": "stream",
     "text": [
      "base class 5\n",
      "base max val 10360.0\n",
      "base max pas (6, 6)\n",
      "base all row max vals [7912.00 9312.00 7584.00 9168.00 9912.00 9816.00 10360.00 8256.00 7888.00\n",
      " 6880.00]\n",
      "base all row max pos [0 1 2 3 4 5 6 7 8 9]\n"
     ]
    }
   ],
   "source": [
    "base_matrix = grad_matrix[0]\n",
    "src_cls = dataset[INDEX][1]\n",
    "print('base class', src_cls)\n",
    "print('base max val', base_matrix.max())\n",
    "print('base max pas', (base_matrix.argmax()//base_matrix.shape[0], \n",
    "                      base_matrix.argmax()%base_matrix.shape[0])\n",
    "     )\n",
    "print('base all row max vals', base_matrix.max(axis=0))\n",
    "print('base all row max pos', np.argmax(base_matrix, axis=0))"
   ]
  },
  {
   "cell_type": "code",
   "execution_count": 6,
   "metadata": {},
   "outputs": [
    {
     "name": "stdout",
     "output_type": "stream",
     "text": [
      "src class 5\n",
      "tgt class: 5\n",
      "sim max val: 6824.0\n",
      "sim max pos: 66 (6, 6)\n",
      "sim all row max vals: [5264.00 6628.00 5128.00 6688.00 6800.00 6744.00 6824.00 5316.00 5932.00\n",
      " 4288.00]\n",
      "sim all row max pos: [0 1 2 3 4 5 6 7 8 9]\n"
     ]
    }
   ],
   "source": [
    "idx_shift = 7888\n",
    "tgt_cls = dataset[INDEX+idx_shift][1]\n",
    "sim_matrix = grad_matrix[idx_shift]\n",
    "print('src class', src_cls)\n",
    "print('tgt class:', tgt_cls)\n",
    "print('sim max val:', sim_matrix.max())\n",
    "print('sim max pos:', sim_matrix.argmax(),\n",
    "                      (sim_matrix.argmax()//sim_matrix.shape[0],\n",
    "                      sim_matrix.argmax()%sim_matrix.shape[0])\n",
    "     )\n",
    "print('sim all row max vals:', sim_matrix.max(axis=0))\n",
    "print('sim all row max pos:', np.argmax(sim_matrix, axis=0))"
   ]
  },
  {
   "cell_type": "code",
   "execution_count": 7,
   "metadata": {},
   "outputs": [],
   "source": [
    "NUM_IJ_IS_MAX = 0 # element specified by labels is max\n",
    "NUM_I_IS_MAX = 0 # row specified by labels is max\n",
    "NUM_J_IS_MAX = 0 # column specified by labels is max\n",
    "IJ_MAX_OVER_MEAN = []\n",
    "NIJ_MAX_OVER_MEAN = []\n",
    "NUM_MAX_ON_DIAGONAL = 0\n",
    "\n",
    "num_tgt = grad_matrix.shape[0]\n",
    "for idx_shift in range(num_tgt):\n",
    "    tgt_cls = dataset[INDEX+idx_shift][1]\n",
    "    sim_matrix = grad_matrix[idx_shift]\n",
    "    i = sim_matrix.argmax() // sim_matrix.shape[0]\n",
    "    j = sim_matrix.argmax() %  sim_matrix.shape[0]\n",
    "    if i == src_cls or i == tgt_cls:\n",
    "        NUM_I_IS_MAX += 1\n",
    "    if j == tgt_cls or j == src_cls:\n",
    "        NUM_J_IS_MAX += 1\n",
    "    if i == src_cls and j == tgt_cls:\n",
    "        NUM_IJ_IS_MAX += 1\n",
    "        IJ_MAX_OVER_MEAN.append(sim_matrix.max() / sim_matrix.mean())\n",
    "    if not i == src_cls or not j == tgt_cls:\n",
    "        NIJ_MAX_OVER_MEAN.append(sim_matrix.max() / sim_matrix.mean())\n",
    "    if i == j:\n",
    "        NUM_MAX_ON_DIAGONAL += 1"
   ]
  },
  {
   "cell_type": "code",
   "execution_count": 8,
   "metadata": {},
   "outputs": [
    {
     "name": "stdout",
     "output_type": "stream",
     "text": [
      "0.006583333333333333\n",
      "0.13711666666666666\n",
      "0.13711666666666666\n",
      "23.02\n",
      "31.4\n",
      "1.0\n"
     ]
    }
   ],
   "source": [
    "print(NUM_IJ_IS_MAX / num_tgt)\n",
    "print(NUM_I_IS_MAX / num_tgt)\n",
    "print(NUM_J_IS_MAX / num_tgt)\n",
    "print(np.mean(IJ_MAX_OVER_MEAN))\n",
    "print(np.mean(NIJ_MAX_OVER_MEAN))\n",
    "print(NUM_MAX_ON_DIAGONAL / num_tgt)"
   ]
  }
 ],
 "metadata": {
  "kernelspec": {
   "display_name": "Python 3.9.7 ('dl')",
   "language": "python",
   "name": "python3"
  },
  "language_info": {
   "codemirror_mode": {
    "name": "ipython",
    "version": 3
   },
   "file_extension": ".py",
   "mimetype": "text/x-python",
   "name": "python",
   "nbconvert_exporter": "python",
   "pygments_lexer": "ipython3",
   "version": "3.9.7"
  },
  "orig_nbformat": 4,
  "vscode": {
   "interpreter": {
    "hash": "ee45cdf497c0c3f35ef2234f032e35cd73e0c351de4fa4cc16c0339db3757505"
   }
  }
 },
 "nbformat": 4,
 "nbformat_minor": 2
}
